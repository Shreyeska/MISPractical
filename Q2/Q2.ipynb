{
 "cells": [
  {
   "cell_type": "code",
   "execution_count": 2,
   "metadata": {},
   "outputs": [
    {
     "name": "stderr",
     "output_type": "stream",
     "text": [
      "[nltk_data] Downloading package vader_lexicon to\n",
      "[nltk_data]     C:\\Users\\shrey\\AppData\\Roaming\\nltk_data...\n",
      "[nltk_data]   Package vader_lexicon is already up-to-date!\n"
     ]
    },
    {
     "name": "stdout",
     "output_type": "stream",
     "text": [
      "Sentiment analysis completed. Results saved to 'news_sentiment_results.json'.\n"
     ]
    }
   ],
   "source": [
    "import requests\n",
    "import json\n",
    "from nltk.sentiment import SentimentIntensityAnalyzer\n",
    "import nltk\n",
    "\n",
    "# Download the VADER lexicon (required for SentimentIntensityAnalyzer)\n",
    "nltk.download('vader_lexicon')\n",
    "\n",
    "# Initialize the SentimentIntensityAnalyzer\n",
    "sia = SentimentIntensityAnalyzer()\n",
    "\n",
    "# Define the API parameters\n",
    "API_ENDPOINT = \"https://newsdata.io/api/1/latest\"\n",
    "API_KEY = \"pub_626573df937dee334707bb2c1654bae70cd09\"  # Replace with your actual API key\n",
    "COUNTRY_CODE = \"NP\"  # Nepal\n",
    "\n",
    "# Fetch the latest news headlines\n",
    "def fetch_news(api_endpoint, api_key, country_code):\n",
    "    params = {\n",
    "        \"apikey\": api_key,\n",
    "        \"country\": country_code\n",
    "    }\n",
    "    response = requests.get(api_endpoint, params=params)\n",
    "    if response.status_code == 200:\n",
    "        return response.json()\n",
    "    else:\n",
    "        print(f\"Failed to fetch news: {response.status_code}\")\n",
    "        return None\n",
    "\n",
    "# Analyze sentiment\n",
    "def analyze_sentiment(headlines):\n",
    "    results = []\n",
    "    for headline in headlines:\n",
    "        title = headline.get(\"title\", \"\")\n",
    "        description = headline.get(\"description\", \"\")\n",
    "\n",
    "        # Calculate sentiment scores\n",
    "        sentiment_scores = sia.polarity_scores(title)\n",
    "\n",
    "        # Determine sentiment label\n",
    "        if sentiment_scores['compound'] >= 0.05:\n",
    "            sentiment_label = \"Positive\"\n",
    "        elif sentiment_scores['compound'] <= -0.05:\n",
    "            sentiment_label = \"Negative\"\n",
    "        else:\n",
    "            sentiment_label = \"Neutral\"\n",
    "\n",
    "        # Save the result\n",
    "        results.append({\n",
    "            \"title\": title,\n",
    "            \"description\": description,\n",
    "            \"sentiment_scores\": sentiment_scores,\n",
    "            \"sentiment_label\": sentiment_label\n",
    "        })\n",
    "    return results\n",
    "\n",
    "# Save results to a JSON file\n",
    "def save_to_json(data, filename):\n",
    "    with open(filename, \"w\", encoding=\"utf-8\") as f:\n",
    "        json.dump(data, f, ensure_ascii=False, indent=4)\n",
    "\n",
    "# Main execution\n",
    "if __name__ == \"__main__\":\n",
    "    news_data = fetch_news(API_ENDPOINT, API_KEY, COUNTRY_CODE)\n",
    "    if news_data and \"results\" in news_data:\n",
    "        headlines = news_data[\"results\"]\n",
    "        analyzed_data = analyze_sentiment(headlines)\n",
    "        save_to_json(analyzed_data, \"news_sentiment_results.json\")\n",
    "        print(\"Sentiment analysis completed. Results saved to 'news_sentiment_results.json'.\")\n",
    "    else:\n",
    "        print(\"No news data found.\")\n"
   ]
  }
 ],
 "metadata": {
  "kernelspec": {
   "display_name": "Python 3",
   "language": "python",
   "name": "python3"
  },
  "language_info": {
   "codemirror_mode": {
    "name": "ipython",
    "version": 3
   },
   "file_extension": ".py",
   "mimetype": "text/x-python",
   "name": "python",
   "nbconvert_exporter": "python",
   "pygments_lexer": "ipython3",
   "version": "3.12.4"
  }
 },
 "nbformat": 4,
 "nbformat_minor": 2
}
