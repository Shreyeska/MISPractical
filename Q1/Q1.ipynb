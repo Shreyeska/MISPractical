{
 "cells": [
  {
   "cell_type": "code",
   "execution_count": 3,
   "metadata": {},
   "outputs": [
    {
     "name": "stdout",
     "output_type": "stream",
     "text": [
      "City: Kathmandu\n",
      "Temperature: 8.12 °C\n",
      "Humidity: 87%\n",
      "Weather: mist\n",
      "Weather data saved to weather_data.csv\n"
     ]
    }
   ],
   "source": [
    "import requests\n",
    "import pandas as pd\n",
    "import os\n",
    "\n",
    "def fetch_weather_data(city_name, api_key):\n",
    "    \"\"\"Fetches weather data for a given city.\"\"\"\n",
    "    url = \"https://api.openweathermap.org/data/2.5/weather\"\n",
    "    params = {\n",
    "        \"q\": city_name,\n",
    "        \"appid\": api_key,\n",
    "        \"units\": \"metric\"  # To get temperature in Celsius\n",
    "    }\n",
    "    response = requests.get(url, params=params)\n",
    "    if response.status_code == 200:\n",
    "        return response.json()\n",
    "    else:\n",
    "        print(f\"Failed to fetch data: {response.status_code}, {response.text}\")\n",
    "        return None\n",
    "\n",
    "def save_to_csv(data, filename):\n",
    "    \"\"\"Saves weather data to a CSV file.\"\"\"\n",
    "    df = pd.DataFrame([data])\n",
    "    if not os.path.isfile(filename):\n",
    "        df.to_csv(filename, index=False)\n",
    "    else:\n",
    "        df.to_csv(filename, mode='a', header=False, index=False)\n",
    "\n",
    "def main():\n",
    "    api_key =\"\" # API GOES HERE\n",
    "    city_name = \"Kathmandu\"\n",
    "    # city_name = input(\"Enter the city name: \")\n",
    "\n",
    "    weather_data = fetch_weather_data(city_name, api_key)\n",
    "    if weather_data:\n",
    "        city = weather_data['name']\n",
    "        temperature = weather_data['main']['temp']\n",
    "        humidity = weather_data['main']['humidity']\n",
    "        weather_description = weather_data['weather'][0]['description']\n",
    "\n",
    "        print(f\"City: {city}\")\n",
    "        print(f\"Temperature: {temperature} °C\")\n",
    "        print(f\"Humidity: {humidity}%\")\n",
    "        print(f\"Weather: {weather_description}\")\n",
    "\n",
    "        # Save data to CSV\n",
    "        data_to_save = {\n",
    "            \"City\": city,\n",
    "            \"Temperature (°C)\": temperature,\n",
    "            \"Humidity (%)\": humidity,\n",
    "            \"Weather\": weather_description\n",
    "        }\n",
    "        save_to_csv(data_to_save, \"weather_data.csv\")\n",
    "        print(\"Weather data saved to weather_data.csv\")\n",
    "\n",
    "if __name__ == \"__main__\":\n",
    "    main()\n"
   ]
  }
 ],
 "metadata": {
  "kernelspec": {
   "display_name": "Python 3",
   "language": "python",
   "name": "python3"
  },
  "language_info": {
   "codemirror_mode": {
    "name": "ipython",
    "version": 3
   },
   "file_extension": ".py",
   "mimetype": "text/x-python",
   "name": "python",
   "nbconvert_exporter": "python",
   "pygments_lexer": "ipython3",
   "version": "3.12.4"
  }
 },
 "nbformat": 4,
 "nbformat_minor": 2
}
